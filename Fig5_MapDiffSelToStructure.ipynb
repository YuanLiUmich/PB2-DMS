{
 "cells": [
  {
   "cell_type": "markdown",
   "metadata": {},
   "source": [
    "# Map differential selection to structures\n",
    "\n",
    "We generated pymol scripts to display positive differential selection values on various PB2 structures.\n",
    "\n",
    "Structure | pdb name | Input txt files | Output pymol scripts\n",
    "--- | --- | --- | ---\n",
    "Polymerase in transcription pre-initiation form | 4wsb | preamble <br/> setview <br/> colorfullstructure <br/> topA549 | map_fullstructure.py <br/> map_topA549.py <br/> map_positive_diff_seq.py \n",
    "Polymerase in apo form | 59d8 | preamble <br/> setview <br/> colorfullstructure <br/> topA549 | map_fullstructure.py <br/> map_topA549.py <br/> map_positive_diff_seq.py \n",
    "PB2 in complex with RNA pol II | 6f5o | preamble <br/> setview <br/> MartinResidues <br/> topA549 | map_MartinResidues.py <br/> map_positive_diff_seq.py\n",
    "PB2 in complex with importin | 4uae | preamble <br/> setview <br/> PumroyResidues <br/> topA549 | map_PumroyResidues.py <br/> map_positive_diff_seq.py"
   ]
  },
  {
   "cell_type": "markdown",
   "metadata": {},
   "source": [
    "Import modules, define directories"
   ]
  },
  {
   "cell_type": "code",
   "execution_count": 1,
   "metadata": {},
   "outputs": [],
   "source": [
    "import os\n",
    "import shutil\n",
    "import pandas as pd\n",
    "import numpy as np\n",
    "from colour import Color"
   ]
  },
  {
   "cell_type": "markdown",
   "metadata": {},
   "source": [
    "Generate `topA549.txt`"
   ]
  },
  {
   "cell_type": "code",
   "execution_count": 3,
   "metadata": {},
   "outputs": [],
   "source": [
    "# Gather prior annotations for known human/mammalian adaptive mutations\n",
    "mutsAdaptive = pd.read_table('data/Muts_HumanAvian.txt')\n",
    "knownAdaptive = (set(mutsAdaptive[mutsAdaptive['ExptVerified']=='Yes']['Site']))\n",
    "# Gather top adaptive mutations in A549\n",
    "dmssummarydf = pd.read_csv('results/diffsel/summary_prefs_effects_diffsel.csv')\n",
    "topA549 = (set(dmssummarydf[dmssummarydf['Experimentally adaptive in']=='A549']['site']))\n",
    "# Intersect\n",
    "knownAdaptiveAndTopA549 = (knownAdaptive & topA549)\n",
    "\n",
    "# Set colors for each set of mutations\n",
    "mutsets = [((knownAdaptive, 'knownAdaptive'), 'blue'), \n",
    "           ((topA549, 'topA549'), 'red'), \n",
    "           ((knownAdaptiveAndTopA549, 'knownAdaptiveAndTopA549'), 'magenta')]\n",
    "\n",
    "# Write to file\n",
    "outfile = 'pymol/topA549.txt'\n",
    "f = open(outfile, 'w')\n",
    "f.write('metric = \\'topA549\\'\\n')\n",
    "f.write('cmd.color(\\'white\\', \\'S009\\')\\n\\n')\n",
    "for ((mutlist, mutlistname), col) in mutsets:\n",
    "    f.write('# {0}\\n'.format(mutlistname))\n",
    "    f.write('for r in [{0}]:\\n'.format(', '.join([str(mut) for mut in mutlist])))\n",
    "    f.write('\\tcmd.color(\\'{0}\\', \\'resi {{0}} and S009\\'.format(r))\\n'.format(col))\n",
    "    f.write('\\tcmd.show(\\'spheres\\', \\'resi {{0}} and S009\\'.format(r))\\n\\n')\n",
    "f.close()"
   ]
  },
  {
   "cell_type": "markdown",
   "metadata": {},
   "source": [
    "Generate pymol scripts"
   ]
  },
  {
   "cell_type": "code",
   "execution_count": 4,
   "metadata": {},
   "outputs": [],
   "source": [
    "# Standard across all structures\n",
    "postamble = 'pymol/postamble.txt'\n",
    "fullstructure = 'pymol/colorfullstructure.txt'\n",
    "topA549 = 'pymol/topA549.txt'\n",
    "pumroy = 'pymol/PumroyResidues.txt'\n",
    "martin = 'pymol/MartinResidues.txt'\n",
    "specialmetricfiles = {'fullstructure': fullstructure,\n",
    "                     'topA549': topA549, \n",
    "                     'pumroy': pumroy,\n",
    "                     'martin': martin}\n",
    "# For non-specialmetrics\n",
    "diffsel_file = 'results/diffsel/summary_A549vCCL141-meansitediffsel.csv'\n",
    "metricdf = pd.read_csv(diffsel_file).sort_values('site')\n",
    "colspectrum = 'white_red'\n",
    "\n",
    "def write_pymol_script(structure, metric, metricdf, colspectrum):\n",
    "    outfile = 'pymol/{0}_map_{1}.py'.format(structure, metric)\n",
    "    preamble = 'pymol/preamble_{0}.txt'.format(structure)\n",
    "    setview = 'pymol/setviewamble_{0}.txt'.format(structure)\n",
    "\n",
    "    f = open(outfile, 'w')\n",
    "\n",
    "    with open(preamble, 'r') as addtext:\n",
    "        for line in addtext.readlines():\n",
    "            f.write(line)\n",
    "            if metric=='fullstructure' and line=='### To get PB2 only\\n': \n",
    "                #don't print lines that will remove non-PB2 subunits\n",
    "                break\n",
    "        f.write('\\n\\n')\n",
    "    \n",
    "    # Write commands to color structure\n",
    "    if metric in specialmetricfiles:\n",
    "        with open(specialmetricfiles[metric], 'r') as addtext:\n",
    "            for line in addtext.readlines():\n",
    "                f.write(line)\n",
    "            f.write('\\n\\n')\n",
    "    else:\n",
    "        f.write(\"metric = \\'{0}\\'\\n\".format(metric))\n",
    "        for row in metricdf.itertuples(index=True, name='Pandas'):\n",
    "            site, met = (getattr(row, \"site\"), getattr(row, metric))\n",
    "            f.write(\"cmd.alter(\\'resi {0}\\', \\'b = {1}\\')\\n\".format(site, met))\n",
    "        f.write('\\n')\n",
    "        f.write(\"cmd.spectrum(\\'b\\', \\'{0}\\', \\'S009\\')\\n\".format(colspectrum))\n",
    "        f.write('\\n')\n",
    "\n",
    "    with open(setview, 'r') as addtext:\n",
    "        for line in addtext.readlines():\n",
    "            f.write(line)\n",
    "    f.write('\\n')\n",
    "    with open(postamble, 'r') as addtext:\n",
    "        for line in addtext.readlines():\n",
    "            f.write(line)\n",
    "\n",
    "    f.close()"
   ]
  },
  {
   "cell_type": "code",
   "execution_count": 9,
   "metadata": {},
   "outputs": [],
   "source": [
    "structures = ['4wsb', '5d98']\n",
    "metrics = ['fullstructure', 'topA549', 'positive_diffsel']\n",
    "\n",
    "for structure in structures:\n",
    "    for metric in metrics:\n",
    "        write_pymol_script(structure, metric, metricdf, colspectrum)"
   ]
  },
  {
   "cell_type": "code",
   "execution_count": 10,
   "metadata": {},
   "outputs": [],
   "source": [
    "structures = ['6f5o']\n",
    "metrics = ['martin', 'positive_diffsel', 'topA549']\n",
    "\n",
    "for structure in structures:\n",
    "    for metric in metrics:\n",
    "        write_pymol_script(structure, metric, metricdf, colspectrum)"
   ]
  },
  {
   "cell_type": "code",
   "execution_count": 12,
   "metadata": {},
   "outputs": [],
   "source": [
    "structures = ['4uad']\n",
    "metrics = ['pumroy', 'positive_diffsel', 'topA549']\n",
    "\n",
    "for structure in structures:\n",
    "    for metric in metrics:\n",
    "        write_pymol_script(structure, metric, metricdf, colspectrum)"
   ]
  },
  {
   "cell_type": "markdown",
   "metadata": {},
   "source": [
    "## Copy files to paper figures directory"
   ]
  },
  {
   "cell_type": "code",
   "execution_count": 13,
   "metadata": {},
   "outputs": [],
   "source": [
    "paperdir = './paper'\n",
    "figuresdir = os.path.join(paperdir, 'figures/')\n",
    "myfiguresdir = os.path.join(figuresdir, 'Fig5/')\n",
    "if not os.path.isdir(myfiguresdir):\n",
    "    os.mkdir(myfiguresdir)\n",
    "\n",
    "filespy = !ls pymol/*.py\n",
    "filespdb = !ls pymol/*.pdb\n",
    "for f in filespy + filespdb:\n",
    "    shutil.copy(f, myfiguresdir)"
   ]
  },
  {
   "cell_type": "code",
   "execution_count": null,
   "metadata": {},
   "outputs": [],
   "source": []
  }
 ],
 "metadata": {
  "kernelspec": {
   "display_name": "Python 3",
   "language": "python",
   "name": "python3"
  },
  "language_info": {
   "codemirror_mode": {
    "name": "ipython",
    "version": 3
   },
   "file_extension": ".py",
   "mimetype": "text/x-python",
   "name": "python",
   "nbconvert_exporter": "python",
   "pygments_lexer": "ipython3",
   "version": "3.6.5"
  }
 },
 "nbformat": 4,
 "nbformat_minor": 2
}
