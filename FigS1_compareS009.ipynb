{
 "cells": [
  {
   "cell_type": "markdown",
   "metadata": {},
   "source": [
    "# Phylogenetic relationship of A/Green-winged Teal/Ohio/175/1986 to other human and avian sequences\n",
    "\n",
    "To check that the PB2 sequence of the avian influenza strain we chose to use in our experiments was representative of avian influenza strains in general, we examined the phylogenetic relationship of our chosen PB2 sequence to a sampling of other influenza strains. We are simply checking that it is not an outlier with respect to other influenza strains.\n",
    "\n",
    "For influenza strains to compare to, we used strains sampled across different host species and years, as identified in [Doud, Ashenberg, and Bloom (2015)](https://www.ncbi.nlm.nih.gov/pubmed/26226986). We also included a set of lineage-defining strains (human H3N2 (Aichi 1968), human pandemic H1N1 (California/04/2009)), and representatives of recent sporadic human cases of avian influnza strains (H5N1, H7N9). These sequences are provided in file `compareS009/compareS009.fa`.\n",
    "\n",
    "We first made a multiple alignment of these coding sequences with `mafft`, then inferred a phylogenetic tree using `raxml`."
   ]
  },
  {
   "cell_type": "code",
   "execution_count": 2,
   "metadata": {},
   "outputs": [],
   "source": [
    "import os\n",
    "import shutil\n",
    "import string\n",
    "\n",
    "import pandas as pd\n",
    "import numpy as np\n",
    "import matplotlib as mpl\n",
    "import matplotlib.pyplot as plt\n",
    "\n",
    "from Bio.SeqRecord import SeqRecord\n",
    "from Bio import SeqIO\n",
    "from Bio import AlignIO\n",
    "\n",
    "import seaborn as sns\n",
    "# Set matplotlib rcParams for figures\n",
    "sns.set(context='paper', style='ticks', palette='deep', font='Arial', font_scale=1.042, color_codes=True,\n",
    "        rc = {'font.size': 10,\n",
    " 'axes.labelsize': 10,\n",
    " 'axes.titlesize': 10,\n",
    " 'xtick.labelsize': 8, #9,\n",
    " 'ytick.labelsize': 8, #9,\n",
    " 'legend.fontsize': 9,\n",
    " 'axes.linewidth': 1.0,\n",
    " 'grid.linewidth': 0.8,\n",
    " 'lines.linewidth': 1,\n",
    " 'lines.markersize': 4.5,\n",
    " 'patch.linewidth': 0.8,\n",
    " 'xtick.major.width': 1.0,\n",
    " 'ytick.major.width': 1.0,\n",
    " 'xtick.minor.width': 0.8,\n",
    " 'ytick.minor.width': 0.8,\n",
    " 'xtick.major.size': 4.5,\n",
    " 'ytick.major.size': 4.5,\n",
    " 'xtick.minor.size': 3,\n",
    " 'ytick.minor.size': 3}\n",
    "       )"
   ]
  },
  {
   "cell_type": "code",
   "execution_count": 20,
   "metadata": {},
   "outputs": [],
   "source": [
    "log = !mafft-linsi compareS009/compareS009.fa > compareS009/compareS009.fa.aln"
   ]
  },
  {
   "cell_type": "code",
   "execution_count": 3,
   "metadata": {},
   "outputs": [],
   "source": [
    "pwd = !pwd\n",
    "pwd = pwd[0]\n",
    "raxmlout = os.path.join(pwd, 'compareS009/raxmlout')\n",
    "if not os.path.isdir(raxmlout):\n",
    "    os.mkdir(raxmlout)\n",
    "log = !raxmlHPC -w {raxmlout} -n compareS009 -p 1 -m GTRCAT -s compareS009/compareS009.fa.aln"
   ]
  },
  {
   "cell_type": "markdown",
   "metadata": {},
   "source": [
    "# Calculate amino-acid pairwise identity between PB2 sequences\n",
    "\n",
    "It appears from the tree that the avian PB2 sequences are all quite similar. To confirm this, we calculated pairwise amino-acid identity of avian influenza PB2 sequences used to build the tree above. For comparison, we did the same for seasonal human influenza PB2 sequences. "
   ]
  },
  {
   "cell_type": "code",
   "execution_count": 2,
   "metadata": {},
   "outputs": [
    {
     "data": {
      "text/plain": [
       "58"
      ]
     },
     "execution_count": 2,
     "metadata": {},
     "output_type": "execute_result"
    }
   ],
   "source": [
    "# Modified from Biopython Tutorial and Cookbook\n",
    "def make_protein_record(nuc_record):\n",
    "    \"\"\"Returns a new SeqRecord with the translated sequence (default table).\"\"\"\n",
    "    return SeqRecord(seq = nuc_record.seq.translate(cds=True), \n",
    "                     id = nuc_record.id,\n",
    "                    )\n",
    "\n",
    "proteins = []\n",
    "for nuc_rec in SeqIO.parse(\"compareS009/compareS009.fa.aln\", \"fasta\"):\n",
    "    if (\"_HOST_Human_\" in nuc_rec.id) or (\"_HOST_Avian_\" in nuc_rec.id):\n",
    "        proteins.append(make_protein_record(nuc_rec))\n",
    "SeqIO.write(proteins, \"compareS009/compareS009_avian_human.faa\", \"fasta\")"
   ]
  },
  {
   "cell_type": "code",
   "execution_count": 6,
   "metadata": {},
   "outputs": [],
   "source": [
    "def identity(seq1, seq2):\n",
    "    j = 0 # counts positions in first sequence\n",
    "    i = 0.0 # counts identity hits\n",
    "    for amino_acid in seq2:\n",
    "        if amino_acid == '-' or amino_acid == '*':\n",
    "            pass\n",
    "        else:\n",
    "            if amino_acid == seq1[j]:\n",
    "                i += 1\n",
    "        j += 1\n",
    "    seq = str(seq1)\n",
    "    gap_strip = seq.replace('-','')\n",
    "    gapstop_strip = gap_strip.replace('*','')\n",
    "    percent = 100*i/len(gapstop_strip)\n",
    "    return percent\n",
    "\n",
    "def identityPairwise(infile):\n",
    "    alignment = AlignIO.read(infile, \"fasta\")\n",
    "    i = 0\n",
    "    for n in range(len(alignment)):\n",
    "        for m in range(1,len(alignment)-n):\n",
    "            i += 1\n",
    "    print(i)\n",
    "    result = pd.DataFrame(np.empty([i,3]), columns=[\"seq1\",\"seq2\",\"Percent amino-acid identity\"])\n",
    "    i = 0\n",
    "    for n, record in enumerate(alignment):\n",
    "        seq1 = record.seq\n",
    "        seq1name = record.id\n",
    "        for m in range(1,len(alignment)-n):\n",
    "            seq2 = alignment[n+m].seq\n",
    "            seq2name = alignment[n+m].id\n",
    "            ident = identity(seq1, seq2)\n",
    "            result.loc[i] = [seq1name, seq2name, ident]\n",
    "            i +=1\n",
    "    return result"
   ]
  },
  {
   "cell_type": "code",
   "execution_count": 7,
   "metadata": {},
   "outputs": [
    {
     "name": "stdout",
     "output_type": "stream",
     "text": [
      "1653\n"
     ]
    }
   ],
   "source": [
    "pi = identityPairwise('compareS009/compareS009_avian_human.faa')\n",
    "pi.to_csv('compareS009/compareS009_avian_human_pairwiseid.txt', sep=\"\\t\", index = False)"
   ]
  },
  {
   "cell_type": "code",
   "execution_count": 8,
   "metadata": {},
   "outputs": [
    {
     "data": {
      "text/html": [
       "<div>\n",
       "<style scoped>\n",
       "    .dataframe tbody tr th:only-of-type {\n",
       "        vertical-align: middle;\n",
       "    }\n",
       "\n",
       "    .dataframe tbody tr th {\n",
       "        vertical-align: top;\n",
       "    }\n",
       "\n",
       "    .dataframe thead th {\n",
       "        text-align: right;\n",
       "    }\n",
       "</style>\n",
       "<table border=\"1\" class=\"dataframe\">\n",
       "  <thead>\n",
       "    <tr style=\"text-align: right;\">\n",
       "      <th></th>\n",
       "      <th>seq1</th>\n",
       "      <th>seq2</th>\n",
       "      <th>Percent amino-acid identity</th>\n",
       "      <th>comparison</th>\n",
       "    </tr>\n",
       "  </thead>\n",
       "  <tbody>\n",
       "    <tr>\n",
       "      <th>0</th>\n",
       "      <td>A/green-winged_teal/Ohio/175/1986_H2N1_HOST_Av...</td>\n",
       "      <td>ref_A/Albany/6/58_H2N2_HOST_Human_AY209936</td>\n",
       "      <td>96.179183</td>\n",
       "      <td>Human vs Avian</td>\n",
       "    </tr>\n",
       "    <tr>\n",
       "      <th>1</th>\n",
       "      <td>A/green-winged_teal/Ohio/175/1986_H2N1_HOST_Av...</td>\n",
       "      <td>ref_A/Panama/1/66_H2N2_HOST_Human_AY209945</td>\n",
       "      <td>96.179183</td>\n",
       "      <td>Human vs Avian</td>\n",
       "    </tr>\n",
       "    <tr>\n",
       "      <th>2</th>\n",
       "      <td>A/green-winged_teal/Ohio/175/1986_H2N1_HOST_Av...</td>\n",
       "      <td>ref_A/Tokyo/31/72_H3N2_HOST_Human_AY210150</td>\n",
       "      <td>95.520422</td>\n",
       "      <td>Human vs Avian</td>\n",
       "    </tr>\n",
       "    <tr>\n",
       "      <th>3</th>\n",
       "      <td>A/green-winged_teal/Ohio/175/1986_H2N1_HOST_Av...</td>\n",
       "      <td>ref_A/Memphis/1/1986_H3N2_HOST_Human_CY002759</td>\n",
       "      <td>95.388669</td>\n",
       "      <td>Human vs Avian</td>\n",
       "    </tr>\n",
       "    <tr>\n",
       "      <th>4</th>\n",
       "      <td>A/green-winged_teal/Ohio/175/1986_H2N1_HOST_Av...</td>\n",
       "      <td>ref_A/New_York/433/2000_H3N2_HOST_Human_CY003255</td>\n",
       "      <td>95.125165</td>\n",
       "      <td>Human vs Avian</td>\n",
       "    </tr>\n",
       "  </tbody>\n",
       "</table>\n",
       "</div>"
      ],
      "text/plain": [
       "                                                seq1  \\\n",
       "0  A/green-winged_teal/Ohio/175/1986_H2N1_HOST_Av...   \n",
       "1  A/green-winged_teal/Ohio/175/1986_H2N1_HOST_Av...   \n",
       "2  A/green-winged_teal/Ohio/175/1986_H2N1_HOST_Av...   \n",
       "3  A/green-winged_teal/Ohio/175/1986_H2N1_HOST_Av...   \n",
       "4  A/green-winged_teal/Ohio/175/1986_H2N1_HOST_Av...   \n",
       "\n",
       "                                               seq2  \\\n",
       "0        ref_A/Albany/6/58_H2N2_HOST_Human_AY209936   \n",
       "1        ref_A/Panama/1/66_H2N2_HOST_Human_AY209945   \n",
       "2        ref_A/Tokyo/31/72_H3N2_HOST_Human_AY210150   \n",
       "3     ref_A/Memphis/1/1986_H3N2_HOST_Human_CY002759   \n",
       "4  ref_A/New_York/433/2000_H3N2_HOST_Human_CY003255   \n",
       "\n",
       "   Percent amino-acid identity      comparison  \n",
       "0                    96.179183  Human vs Avian  \n",
       "1                    96.179183  Human vs Avian  \n",
       "2                    95.520422  Human vs Avian  \n",
       "3                    95.388669  Human vs Avian  \n",
       "4                    95.125165  Human vs Avian  "
      ]
     },
     "execution_count": 8,
     "metadata": {},
     "output_type": "execute_result"
    }
   ],
   "source": [
    "def annotate_pairwise(row):\n",
    "    if (\"HOST_Human_\" in row['seq1']) and (\"HOST_Human_\" in row['seq2']):\n",
    "        return \"Human vs Human\"\n",
    "    elif (\"HOST_Avian_\" in row['seq1']) and (\"HOST_Avian_\" in row['seq2']):\n",
    "        return \"Avian vs Avian\"\n",
    "    else:\n",
    "        return \"Human vs Avian\"\n",
    "pi['comparison'] = pi.apply(lambda x:annotate_pairwise(x), axis=1)\n",
    "pi.head()"
   ]
  },
  {
   "cell_type": "markdown",
   "metadata": {},
   "source": [
    "We plotted the distribution of amino acid identity for each set of comparisons."
   ]
  },
  {
   "cell_type": "code",
   "execution_count": 21,
   "metadata": {},
   "outputs": [
    {
     "data": {
      "image/png": "[encoded data removed]",
      "text/plain": [
       "<Figure size 540x180 with 3 Axes>"
      ]
     },
     "metadata": {},
     "output_type": "display_data"
    }
   ],
   "source": [
    "g = sns.FacetGrid(pi, col=\"comparison\",  \n",
    "                  col_order=['Avian vs Avian', 'Human vs Human', 'Human vs Avian'],\n",
    "                  sharey=False, \n",
    "                  height=2.5)\n",
    "bins = np.linspace(92, 100, (100-92+1)*2)\n",
    "g.map(plt.hist, \"Percent amino-acid identity\", color=\"steelblue\", bins=bins)\n",
    "g.savefig('compareS009/pairwiseid.pdf', bbox_inches=\"tight\", dpi=300)"
   ]
  },
  {
   "cell_type": "markdown",
   "metadata": {},
   "source": [
    "Get summary statistics for percent identity"
   ]
  },
  {
   "cell_type": "code",
   "execution_count": 10,
   "metadata": {},
   "outputs": [
    {
     "data": {
      "text/html": [
       "<div>\n",
       "<style scoped>\n",
       "    .dataframe tbody tr th:only-of-type {\n",
       "        vertical-align: middle;\n",
       "    }\n",
       "\n",
       "    .dataframe tbody tr th {\n",
       "        vertical-align: top;\n",
       "    }\n",
       "\n",
       "    .dataframe thead th {\n",
       "        text-align: right;\n",
       "    }\n",
       "</style>\n",
       "<table border=\"1\" class=\"dataframe\">\n",
       "  <thead>\n",
       "    <tr style=\"text-align: right;\">\n",
       "      <th></th>\n",
       "      <th>count</th>\n",
       "      <th>mean</th>\n",
       "      <th>std</th>\n",
       "      <th>min</th>\n",
       "      <th>25%</th>\n",
       "      <th>50%</th>\n",
       "      <th>75%</th>\n",
       "      <th>max</th>\n",
       "      <th>meanAAdiff</th>\n",
       "    </tr>\n",
       "    <tr>\n",
       "      <th>comparison</th>\n",
       "      <th></th>\n",
       "      <th></th>\n",
       "      <th></th>\n",
       "      <th></th>\n",
       "      <th></th>\n",
       "      <th></th>\n",
       "      <th></th>\n",
       "      <th></th>\n",
       "      <th></th>\n",
       "    </tr>\n",
       "  </thead>\n",
       "  <tbody>\n",
       "    <tr>\n",
       "      <th>Avian vs Avian</th>\n",
       "      <td>231.0</td>\n",
       "      <td>98.742935</td>\n",
       "      <td>0.725879</td>\n",
       "      <td>96.574440</td>\n",
       "      <td>98.287220</td>\n",
       "      <td>98.945982</td>\n",
       "      <td>99.341238</td>\n",
       "      <td>99.868248</td>\n",
       "      <td>9.541126</td>\n",
       "    </tr>\n",
       "    <tr>\n",
       "      <th>Human vs Avian</th>\n",
       "      <td>792.0</td>\n",
       "      <td>95.476837</td>\n",
       "      <td>1.000080</td>\n",
       "      <td>92.885375</td>\n",
       "      <td>94.861660</td>\n",
       "      <td>95.388669</td>\n",
       "      <td>96.047431</td>\n",
       "      <td>98.814229</td>\n",
       "      <td>34.330808</td>\n",
       "    </tr>\n",
       "    <tr>\n",
       "      <th>Human vs Human</th>\n",
       "      <td>630.0</td>\n",
       "      <td>97.163561</td>\n",
       "      <td>1.339284</td>\n",
       "      <td>93.939394</td>\n",
       "      <td>96.080369</td>\n",
       "      <td>97.233202</td>\n",
       "      <td>98.287220</td>\n",
       "      <td>99.868248</td>\n",
       "      <td>21.528571</td>\n",
       "    </tr>\n",
       "  </tbody>\n",
       "</table>\n",
       "</div>"
      ],
      "text/plain": [
       "                count       mean       std        min        25%        50%  \\\n",
       "comparison                                                                    \n",
       "Avian vs Avian  231.0  98.742935  0.725879  96.574440  98.287220  98.945982   \n",
       "Human vs Avian  792.0  95.476837  1.000080  92.885375  94.861660  95.388669   \n",
       "Human vs Human  630.0  97.163561  1.339284  93.939394  96.080369  97.233202   \n",
       "\n",
       "                      75%        max  meanAAdiff  \n",
       "comparison                                        \n",
       "Avian vs Avian  99.341238  99.868248    9.541126  \n",
       "Human vs Avian  96.047431  98.814229   34.330808  \n",
       "Human vs Human  98.287220  99.868248   21.528571  "
      ]
     },
     "execution_count": 10,
     "metadata": {},
     "output_type": "execute_result"
    }
   ],
   "source": [
    "groupby_comparison = pi['Percent amino-acid identity'].groupby(pi['comparison'])\n",
    "summary = groupby_comparison.describe()\n",
    "summary['meanAAdiff'] = (1-summary['mean']/100)*759\n",
    "summary"
   ]
  },
  {
   "cell_type": "markdown",
   "metadata": {},
   "source": [
    "Check mean pairwise identity specifically for our chosen avian influenza strain. We see that it has a slightly mean pairwise identity of 99%, slightly higher than all avian-avian comparisons. As such, there is no indication that it is a outlier."
   ]
  },
  {
   "cell_type": "code",
   "execution_count": 17,
   "metadata": {},
   "outputs": [
    {
     "data": {
      "text/html": [
       "<div>\n",
       "<style scoped>\n",
       "    .dataframe tbody tr th:only-of-type {\n",
       "        vertical-align: middle;\n",
       "    }\n",
       "\n",
       "    .dataframe tbody tr th {\n",
       "        vertical-align: top;\n",
       "    }\n",
       "\n",
       "    .dataframe thead th {\n",
       "        text-align: right;\n",
       "    }\n",
       "</style>\n",
       "<table border=\"1\" class=\"dataframe\">\n",
       "  <thead>\n",
       "    <tr style=\"text-align: right;\">\n",
       "      <th></th>\n",
       "      <th>Percent amino-acid identity</th>\n",
       "    </tr>\n",
       "  </thead>\n",
       "  <tbody>\n",
       "    <tr>\n",
       "      <th>count</th>\n",
       "      <td>21.000000</td>\n",
       "    </tr>\n",
       "    <tr>\n",
       "      <th>mean</th>\n",
       "      <td>99.008721</td>\n",
       "    </tr>\n",
       "    <tr>\n",
       "      <th>std</th>\n",
       "      <td>0.618842</td>\n",
       "    </tr>\n",
       "    <tr>\n",
       "      <th>min</th>\n",
       "      <td>97.364954</td>\n",
       "    </tr>\n",
       "    <tr>\n",
       "      <th>25%</th>\n",
       "      <td>98.814229</td>\n",
       "    </tr>\n",
       "    <tr>\n",
       "      <th>50%</th>\n",
       "      <td>99.209486</td>\n",
       "    </tr>\n",
       "    <tr>\n",
       "      <th>75%</th>\n",
       "      <td>99.341238</td>\n",
       "    </tr>\n",
       "    <tr>\n",
       "      <th>max</th>\n",
       "      <td>99.736495</td>\n",
       "    </tr>\n",
       "  </tbody>\n",
       "</table>\n",
       "</div>"
      ],
      "text/plain": [
       "       Percent amino-acid identity\n",
       "count                    21.000000\n",
       "mean                     99.008721\n",
       "std                       0.618842\n",
       "min                      97.364954\n",
       "25%                      98.814229\n",
       "50%                      99.209486\n",
       "75%                      99.341238\n",
       "max                      99.736495"
      ]
     },
     "execution_count": 17,
     "metadata": {},
     "output_type": "execute_result"
    }
   ],
   "source": [
    "pi_avian = pi[(pi['comparison']=='Avian vs Avian') & \n",
    "              (pi['seq1']=='A/green-winged_teal/Ohio/175/1986_H2N1_HOST_Avian_CY018884')]\n",
    "pi_avian['Percent amino-acid identity'].describe().to_frame()"
   ]
  },
  {
   "cell_type": "markdown",
   "metadata": {},
   "source": [
    "## Copy files to paper figures directory"
   ]
  },
  {
   "cell_type": "code",
   "execution_count": 22,
   "metadata": {},
   "outputs": [],
   "source": [
    "paperdir = './paper'\n",
    "figuresdir = os.path.join(paperdir, 'figures/')\n",
    "myfiguresdir = os.path.join(figuresdir, 'FigS1/')\n",
    "if not os.path.isdir(myfiguresdir):\n",
    "    os.mkdir(myfiguresdir)\n",
    "\n",
    "files = (\n",
    "         ['compareS009/pairwiseid.pdf',\n",
    "          'compareS009/raxmlout/RAxML_bestTree.compareS009']\n",
    "        )\n",
    "for f in files:\n",
    "    shutil.copy(f, myfiguresdir)"
   ]
  },
  {
   "cell_type": "code",
   "execution_count": null,
   "metadata": {},
   "outputs": [],
   "source": []
  }
 ],
 "metadata": {
  "kernelspec": {
   "display_name": "Python 3",
   "language": "python",
   "name": "python3"
  },
  "language_info": {
   "codemirror_mode": {
    "name": "ipython",
    "version": 3
   },
   "file_extension": ".py",
   "mimetype": "text/x-python",
   "name": "python",
   "nbconvert_exporter": "python",
   "pygments_lexer": "ipython3",
   "version": "3.6.5"
  }
 },
 "nbformat": 4,
 "nbformat_minor": 2
}
